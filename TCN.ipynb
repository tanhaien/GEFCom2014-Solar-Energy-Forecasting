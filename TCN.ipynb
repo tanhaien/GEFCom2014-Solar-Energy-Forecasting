{
 "cells": [
  {
   "cell_type": "code",
   "execution_count": 1,
   "metadata": {},
   "outputs": [
    {
     "ename": "ModuleNotFoundError",
     "evalue": "No module named 'darts'",
     "output_type": "error",
     "traceback": [
      "\u001b[1;31m---------------------------------------------------------------------------\u001b[0m",
      "\u001b[1;31mModuleNotFoundError\u001b[0m                       Traceback (most recent call last)",
      "Cell \u001b[1;32mIn[1], line 1\u001b[0m\n\u001b[1;32m----> 1\u001b[0m \u001b[38;5;28;01mfrom\u001b[39;00m \u001b[38;5;21;01mdarts\u001b[39;00m \u001b[38;5;28;01mimport\u001b[39;00m TimeSeries\n\u001b[0;32m      2\u001b[0m \u001b[38;5;28;01mfrom\u001b[39;00m \u001b[38;5;21;01mdarts\u001b[39;00m\u001b[38;5;21;01m.\u001b[39;00m\u001b[38;5;21;01mdataprocessing\u001b[39;00m\u001b[38;5;21;01m.\u001b[39;00m\u001b[38;5;21;01mtransformers\u001b[39;00m \u001b[38;5;28;01mimport\u001b[39;00m Scaler\n\u001b[0;32m      3\u001b[0m \u001b[38;5;28;01mfrom\u001b[39;00m \u001b[38;5;21;01mdarts\u001b[39;00m\u001b[38;5;21;01m.\u001b[39;00m\u001b[38;5;21;01mmodels\u001b[39;00m \u001b[38;5;28;01mimport\u001b[39;00m TCNModel\n",
      "\u001b[1;31mModuleNotFoundError\u001b[0m: No module named 'darts'"
     ]
    }
   ],
   "source": [
    "from darts import TimeSeries\n",
    "from darts.dataprocessing.transformers import Scaler\n",
    "from darts.models import TCNModel\n",
    "from darts.metrics import mape, rmse\n",
    "from darts.utils.timeseries_generation import datetime_attribute_timeseries\n",
    "import pandas as pd\n",
    "\n",
    "# Giả sử dữ liệu của bạn được lưu trữ trong một DataFrame có tên là df\n",
    "# với 12 cột biến đầu vào (VAR78, VAR79, ..., VAR228) và 1 cột đầu ra (solar energy)\n",
    "train_df = pd.read_csv(\"/content/drive/MyDrive/Colab Notebooks (1)/GEFCom2014-Solar-Energy-Forecasting/GEFCom2014-S_V2/Solar/Task 1/predictors1.csv\", index_col='TIMESTAMP', parse_dates=True)\n",
    "train_df.index = pd.to_datetime(train_df.index)\n",
    "label_df = pd.read_csv(\"/content/drive/MyDrive/Colab Notebooks (1)/GEFCom2014-Solar-Energy-Forecasting/GEFCom2014-S_V2/Solar/Task 1/train1.csv\")\n",
    "# prompt: viết mã để gộp 2 dataframe trongg pandas tên là \"train_df\" và \"label_df\"\n",
    "df = pd.merge(train_df, label_df)\n",
    "df"
   ]
  },
  {
   "cell_type": "code",
   "execution_count": null,
   "metadata": {},
   "outputs": [],
   "source": [
    "\n",
    "\n",
    "# Chuyển đổi DataFrame thành TimeSeries\n",
    "series = TimeSeries.from_dataframe(df, time_col='TIMESTAMP', value_cols=['VAR78', 'VAR79', 'VAR134', 'VAR157', 'VAR164', 'VAR165', 'VAR166', 'VAR167', 'VAR169', 'VAR175', 'VAR178', 'VAR228', 'POWER'])\n",
    "\n",
    "# Thêm các thuộc tính ngày giờ để giúp mô hình nắm bắt các mẫu theo mùa\n",
    "series = datetime_attribute_timeseries(series, attribute=\"month\", one_hot=True)\n",
    "\n",
    "# Chia dữ liệu thành tập huấn luyện và tập xác thực\n",
    "train, val = series.split_after(pd.Timestamp('2013-06-06'))  # Điều chỉnh ngày chia theo dữ liệu của bạn\n",
    "\n",
    "# Chuẩn hóa dữ liệu\n",
    "scaler = Scaler()\n",
    "train_transformed = scaler.fit_transform(train)\n",
    "val_transformed = scaler.transform(val)\n",
    "\n",
    "# Xây dựng mô hình TCN với các siêu tham số được đề xuất\n",
    "model = TCNModel(\n",
    "    input_chunk_length=24,  # Độ dài của chuỗi đầu vào (tùy chỉnh theo độ dài phụ thuộc)\n",
    "    output_chunk_length=1,  # Dự đoán 1 bước thời gian\n",
    "    num_filters=32,  # Số lượng bộ lọc trong mỗi lớp tích chập\n",
    "    kernel_size=3,  # Kích thước kernel\n",
    "    dilation_base=2,  # Cơ số giãn nở\n",
    "    num_layers=4,  # Số lớp (tùy chỉnh theo input_chunk_length và dilation_base)\n",
    "    dropout=0.2,  # Tỷ lệ dropout\n",
    "    random_state=42,  # Để tái lập kết quả\n",
    ")\n",
    "\n",
    "# Huấn luyện mô hình\n",
    "model.fit(train_transformed, verbose=True)\n",
    "\n",
    "# Đánh giá mô hình trên tập xác thực\n",
    "pred = model.predict(n=len(val), series=val_transformed)\n",
    "print(\"MAPE:\", mape(val, pred))\n",
    "print(\"RMSE:\", rmse(val, pred))\n"
   ]
  }
 ],
 "metadata": {
  "kernelspec": {
   "display_name": "base",
   "language": "python",
   "name": "python3"
  },
  "language_info": {
   "codemirror_mode": {
    "name": "ipython",
    "version": 3
   },
   "file_extension": ".py",
   "mimetype": "text/x-python",
   "name": "python",
   "nbconvert_exporter": "python",
   "pygments_lexer": "ipython3",
   "version": "3.11.3"
  }
 },
 "nbformat": 4,
 "nbformat_minor": 2
}
